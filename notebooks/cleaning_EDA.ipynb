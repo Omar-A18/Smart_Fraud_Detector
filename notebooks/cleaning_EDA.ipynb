{
 "cells": [
  {
   "cell_type": "code",
   "execution_count": null,
   "id": "cfe9c5ba",
   "metadata": {},
   "outputs": [],
   "source": [
    "import pandas as pd\n",
    "import numpy as np\n",
    "import seaborn as sns\n",
    "import matplotlib.pyplot as plt"
   ]
  },
  {
   "cell_type": "code",
   "execution_count": null,
   "id": "ebd30db0",
   "metadata": {},
   "outputs": [],
   "source": [
    "df = pd.read_csv(\"../data/raw/fraudTrain.csv\")\n",
    "df.head()"
   ]
  },
  {
   "cell_type": "code",
   "execution_count": null,
   "id": "9679ac35",
   "metadata": {},
   "outputs": [],
   "source": [
    "df = df.drop([\"Unnamed: 0\", \"first\", \"last\",\"cc_num\",\"trans_num\",\"street\",\"merchant\",\"city\",\"zip\"], axis=1)\n",
    "#df"
   ]
  },
  {
   "cell_type": "code",
   "execution_count": null,
   "id": "37f1367a",
   "metadata": {},
   "outputs": [],
   "source": [
    "df.info()"
   ]
  },
  {
   "cell_type": "code",
   "execution_count": null,
   "id": "5a05701f",
   "metadata": {},
   "outputs": [],
   "source": [
    "df.nunique()"
   ]
  },
  {
   "cell_type": "code",
   "execution_count": null,
   "id": "4cb1cbb4",
   "metadata": {},
   "outputs": [],
   "source": [
    "\n",
    "date_list = []\n",
    "time_list = []\n",
    "for row in df[\"trans_date_trans_time\"]:\n",
    "    date_list.append(row[0:10])\n",
    "    time_list.append(row[11:19])\n"
   ]
  },
  {
   "cell_type": "code",
   "execution_count": null,
   "id": "fb87ec81",
   "metadata": {},
   "outputs": [],
   "source": [
    "time_list"
   ]
  },
  {
   "cell_type": "code",
   "execution_count": null,
   "id": "e17558bd",
   "metadata": {},
   "outputs": [],
   "source": [
    "df[\"gender\"].value_counts()"
   ]
  },
  {
   "cell_type": "code",
   "execution_count": null,
   "id": "cd1fc4dc",
   "metadata": {},
   "outputs": [],
   "source": [
    "\n",
    "df[\"date\"] = date_list\n",
    "df[\"time\"] = time_list\n",
    "df[\"gender\"] = df[\"gender\"].map({\"M\":0,\"F\":1}) # Le damos valor 1 a F porque es mas comun que M\n",
    "df = df.drop([\"trans_date_trans_time\", \"unix_time\"], axis=1)"
   ]
  },
  {
   "cell_type": "code",
   "execution_count": null,
   "id": "050f5f6b",
   "metadata": {},
   "outputs": [],
   "source": [
    "df"
   ]
  },
  {
   "cell_type": "code",
   "execution_count": null,
   "id": "349fb4d2",
   "metadata": {},
   "outputs": [],
   "source": [
    "df.info()"
   ]
  },
  {
   "cell_type": "code",
   "execution_count": null,
   "id": "19797906",
   "metadata": {},
   "outputs": [],
   "source": [
    "\n",
    "df[\"weekday_name\"] = pd.to_datetime(df[\"date\"]).dt.day_name()\n",
    "\n",
    "# Suponiendo que df es tu DataFrame y 'time' está en formato string tipo 'HH:MM:SS'\n",
    "df[\"hour\"] = pd.to_datetime(df[\"time\"]).dt.hour  # Extraer la hora como entero (0-23)\n",
    "\n",
    "# Calcular las variables seno y coseno para la hora\n",
    "df[\"hour_sin\"] = np.sin(2 * np.pi * df[\"hour\"] / 24)\n",
    "df[\"hour_cos\"] = np.cos(2 * np.pi * df[\"hour\"] / 24)\n",
    "\n",
    "df[\"dob\"] = pd.to_datetime(df[\"dob\"])       # Asegurarse de que dob sea tipo fecha\n",
    "df[\"date\"] = pd.to_datetime(df[\"date\"])     # Suponiendo que tienes una columna con la fecha de la transacción\n",
    "\n",
    "df[\"age\"] = (df[\"date\"] - df[\"dob\"]).dt.days // 365\n",
    "\n"
   ]
  },
  {
   "cell_type": "code",
   "execution_count": null,
   "id": "a6d429b9",
   "metadata": {},
   "outputs": [],
   "source": [
    "df"
   ]
  },
  {
   "cell_type": "code",
   "execution_count": null,
   "id": "11959c62",
   "metadata": {},
   "outputs": [],
   "source": [
    "\n",
    "df = df.drop([\"date\",\"time\",\"hour\",\"lat\",\"long\",\"dob\",\"date\",\"time\",\"merch_lat\",\"merch_long\"], axis=1)"
   ]
  },
  {
   "cell_type": "code",
   "execution_count": null,
   "id": "10e8d32e",
   "metadata": {},
   "outputs": [],
   "source": [
    "df.info()"
   ]
  },
  {
   "cell_type": "code",
   "execution_count": null,
   "id": "2005d6fc",
   "metadata": {},
   "outputs": [],
   "source": [
    "df"
   ]
  },
  {
   "cell_type": "code",
   "execution_count": null,
   "id": "0be46166",
   "metadata": {},
   "outputs": [],
   "source": [
    "df[\"category\"].value_counts()"
   ]
  },
  {
   "cell_type": "code",
   "execution_count": null,
   "id": "def77839",
   "metadata": {},
   "outputs": [],
   "source": [
    "df[\"job\"].value_counts()"
   ]
  },
  {
   "cell_type": "code",
   "execution_count": null,
   "id": "fbad67e2",
   "metadata": {},
   "outputs": [],
   "source": [
    "# Diccionario de ocupación a sector\n",
    "jobs_by_sector = {\n",
    "    \"Finanzas y Contabilidad\": [\n",
    "        \"Financial adviser\", \"Chartered public finance accountant\", \"Comptroller\",\n",
    "        \"Financial trader\", \"Pensions consultant\", \"Insurance underwriter\",\n",
    "        \"Chartered loss adjuster\", \"Accounting technician\", \"Dealer\",\n",
    "        \"Futures trader\", \"Senior tax professional/tax inspector\", \"Administrator\",\n",
    "        \"Insurance risk surveyor\", \"Insurance broker\", \"Tax inspector\",\n",
    "        \"Freight forwarder\", \"Commercial/residential surveyor\",\n",
    "        \"Accountant, chartered public finance\", \"Investment analyst\", \"Patent attorney\",\n",
    "        \"Pension scheme manager\", \"Retail banker\", \"Investment banker, corporate\",\n",
    "        \"Corporate investment banker\", \"Acupuncturist\", \"Equities trader\",\n",
    "        \"Chartered accountant\", \"Media planner\", \"Air broker\", \"Company secretary\",\n",
    "        \"Insurance claims handler\", \"Chartered legal executive (England and Wales)\",\n",
    "        \"Loss adjuster, chartered\", \"Accountant, chartered certified\",\n",
    "        \"Investment banker, operational\", \"Tax adviser\", \"Solicitor, Scotland\",\n",
    "        \"Legal secretary\", \"Solicitor\", \"Accountant, chartered\", \"Industrial buyer\"\n",
    "    ],\n",
    "    \"Tecnología y Datos\": [\n",
    "        \"Systems developer\", \"IT trainer\", \"Multimedia programmer\",\n",
    "        \"Applications developer\", \"Engineer, electronics\", \"Systems analyst\",\n",
    "        \"Video editor\", \"Radiographer, diagnostic\", \"Product/process development scientist\",\n",
    "        \"Information systems manager\", \"Animator\", \"Network engineer\",\n",
    "        \"Engineer, communications\", \"Research scientist (maths)\",\n",
    "        \"Geophysicist/field seismologist\", \"Programmer, applications\", \"IT consultant\",\n",
    "        \"Manufacturing systems engineer\", \"Data scientist\", \"Programmer, multimedia\",\n",
    "        \"Chief Technology Officer\", \"Database administrator\", \"Web designer\",\n",
    "        \"Telecommunications researcher\", \"Seismic interpreter\", \"Engineer, technical sales\"\n",
    "    ],\n",
    "    \"Ingeniería y Construcción\": [\n",
    "        \"Naval architect\", \"Surveyor, land/geomatics\", \"Materials engineer\",\n",
    "        \"Mining engineer\", \"Energy engineer\", \"Petroleum engineer\",\n",
    "        \"Quantity surveyor\", \"Engineer, automotive\", \"Mechanical engineer\",\n",
    "        \"Electrical engineer\", \"Drilling engineer\", \"Engineer, biomedical\",\n",
    "        \"Building surveyor\", \"Water engineer\", \"Clothing/textile technologist\",\n",
    "        \"Engineer, production\", \"Engineer, control and instrumentation\",\n",
    "        \"Engineer, production\", \"Engineering geologist\", \"Engineer, mining\",\n",
    "        \"Structural engineer\", \"Site engineer\", \"Electronics engineer\",\n",
    "        \"Manufacturing engineer\", \"Engineer, land\", \"Contractor\",\n",
    "        \"Engineer, petroleum\", \"Engineer, drilling\", \"Civil engineer, contracting\",\n",
    "        \"Engineer, agricultural\", \"Planning and development surveyor\",\n",
    "        \"Building services engineer\", \"Production engineer\",\n",
    "        \"Armed forces logistics/support/administrative officer\",\n",
    "        \"Engineer, maintenance\", \"Aeronautical engineer\", \"Hydrologist\",\n",
    "        \"Control and instrumentation engineer\", \"Engineer, civil (contracting)\",\n",
    "        \"Engineer, broadcasting (operations)\", \"Engineer, aeronautical\",\n",
    "        \"Architectural technologist\", \"Engineer, civil (consulting)\",\n",
    "        \"Engineer, manufacturing\", \"Engineer, materials\", \"Broadcast engineer\",\n",
    "        \"Engineer, structural\", \"Hydrogeologist\", \"Engineer, site\",\n",
    "        \"Contracting civil engineer\"\n",
    "    ],\n",
    "    \"Salud y Medicina\": [\n",
    "        \"Scientist, audiological\", \"Podiatrist\", \"Paramedic\",\n",
    "        \"Audiological scientist\", \"Immunologist\", \"Counsellor\",\n",
    "        \"Psychologist, forensic\", \"Psychotherapist, child\", \"Physiotherapist\",\n",
    "        \"Counselling psychologist\", \"Toxicologist\", \"Scientist, biomedical\",\n",
    "        \"Surgeon\", \"Radiographer, therapeutic\", \"Forensic psychologist\",\n",
    "        \"Dispensing optician\", \"Exercise physiologist\", \"Physicist, medical\",\n",
    "        \"Learning disability nurse\", \"Hospital doctor\", \"Chiropodist\",\n",
    "        \"Phytotherapist\", \"Biomedical scientist\", \"Medical physicist\",\n",
    "        \"Nurse, children's\", \"Doctor, general practice\", \"Therapist, sports\",\n",
    "        \"Music therapist\", \"Mental health nurse\", \"Therapist, art\",\n",
    "        \"Doctor, hospital\", \"Paediatric nurse\", \"Neurosurgeon\",\n",
    "        \"Horticultural therapist\", \"Scientist, physiological\", \"Psychiatrist\",\n",
    "        \"Clinical research associate\", \"Sport and exercise psychologist\",\n",
    "        \"Clinical biochemist\", \"Nutritional therapist\", \"Therapist, drama\",\n",
    "        \"Art therapist\", \"Pharmacist, community\", \"Health promotion specialist\",\n",
    "        \"General practice doctor\", \"Health visitor\", \"Clinical embryologist\",\n",
    "        \"Pharmacologist\", \"Clinical psychologist\", \"Orthoptist\",\n",
    "        \"Psychiatric nurse\", \"Therapist, music\", \"Physiological scientist\",\n",
    "        \"Optometrist\", \"Diagnostic radiographer\", \"Community pharmacist\",\n",
    "        \"Hospital pharmacist\", \"Presenter, broadcasting\", \"Biochemist, clinical\",\n",
    "        \"Nurse, mental health\", \"Research scientist (medical)\",\n",
    "        \"Clinical psychologist\", \"Medical technical officer\", \"Ambulance person\",\n",
    "        \"Scientist, clinical (histocompatibility and immunogenetics)\",\n",
    "        \"Pathologist\", \"Chemist, analytical\", \"Medical research scientist\",\n",
    "        \"Clinical cytogeneticist\", \"Oncologist\", \"Homeopath\", \"Veterinary surgeon\"\n",
    "    ],\n",
    "    \"Educación e Investigación\": [\n",
    "        \"Scientist, research (maths)\", \"Secondary school teacher\",\n",
    "        \"Early years teacher\", \"Librarian, academic\",\n",
    "        \"Research scientist (physical sciences)\", \"Special educational needs teacher\",\n",
    "        \"Teacher, special educational needs\", \"Further education lecturer\",\n",
    "        \"English as a second language teacher\", \"Curator\", \"Child psychotherapist\",\n",
    "        \"Occupational psychologist\", \"Lecturer, further education\",\n",
    "        \"Education officer, museum\", \"Music tutor\", \"Lecturer, higher education\",\n",
    "        \"Careers information officer\", \"Teacher, secondary school\",\n",
    "        \"Armed forces training and education officer\",\n",
    "        \"Teacher, early years/pre\", \"Museum/gallery conservator\",\n",
    "        \"Research scientist (physical sciences)\", \"Community education officer\",\n",
    "        \"Research scientist (life sciences)\", \"Learning mentor\",\n",
    "        \"Higher education careers adviser\", \"Public librarian\",\n",
    "        \"Teaching laboratory technician\", \"Primary school teacher\",\n",
    "        \"Academic librarian\", \"Environmental education officer\",\n",
    "        \"Teacher, English as a foreign language\", \"TEFL teacher\",\n",
    "        \"Associate Professor\", \"Teacher, adult education\", \"Professor Emeritus\",\n",
    "        \"English as a foreign language teacher\", \"Careers adviser\"\n",
    "    ],\n",
    "    \"Medios y Comunicación\": [\n",
    "        \"Film/video editor\", \"Copywriter, advertising\", \"Magazine features editor\",\n",
    "        \"Television production assistant\", \"Science writer\", \"Radio producer\",\n",
    "        \"Radio broadcast assistant\", \"Television/film/video producer\",\n",
    "        \"Press photographer\", \"Public relations account executive\",\n",
    "        \"Editor, commissioning\", \"Broadcast presenter\", \"Journalist, newspaper\",\n",
    "        \"Producer, radio\", \"Press sub\", \"Camera operator\", \"Gaffer\",\n",
    "        \"Editor, film/video\", \"Furniture designer\", \"Editor, magazine features\",\n",
    "        \"Animator\", \"Advertising account executive\", \"Special effects artist\",\n",
    "        \"Interpreter\", \"Commissioning editor\", \"Illustrator\", \"Designer, multimedia\",\n",
    "        \"Production assistant, radio\", \"Advertising copywriter\",\n",
    "        \"Producer, television/film/video\", \"Magazine journalist\",\n",
    "        \"Production assistant, television\", \"Public relations officer\",\n",
    "        \"Copywriter\", \"Writer\", \"Broadcast journalist\"\n",
    "    ],\n",
    "    \"Consultoría y Asesoramiento\": [\n",
    "        \"Environmental consultant\", \"Agricultural consultant\",\n",
    "        \"Pensions consultant\", \"Management consultant\", \"IT consultant\",\n",
    "        \"Public affairs consultant\", \"Horticultural consultant\"\n",
    "    ],\n",
    "    \"Diseño y Arte\": [\n",
    "        \"Exhibition designer\", \"Designer, ceramics/pottery\", \"Musician\",\n",
    "        \"Fine artist\", \"Ceramics designer\", \"Designer, industrial/product\",\n",
    "        \"Jewellery designer\", \"Designer, exhibition/display\",\n",
    "        \"Landscape architect\", \"Glass blower/designer\", \"Industrial/product designer\",\n",
    "        \"Furniture designer\", \"Architect\", \"Designer, interior/spatial\",\n",
    "        \"Set designer\", \"Illustrator\", \"Designer, textile\", \"Art gallery manager\",\n",
    "        \"Jewellery designer\", \"Visual merchandiser\", \"Designer, television/film set\",\n",
    "        \"Artist\", \"Interior and spatial designer\", \"Dancer\"\n",
    "    ],\n",
    "    \"Servicios Sociales y Comunitarios\": [\n",
    "        \"Prison officer\", \"Counsellor\", \"Psychotherapist, child\", \"Probation officer\",\n",
    "        \"Development worker, community\", \"Psychologist, counselling\",\n",
    "        \"Development worker, international aid\", \"Police officer\",\n",
    "        \"Community arts worker\", \"Advice worker\", \"Equality and diversity officer\",\n",
    "        \"Administrator, charities/voluntary organisations\",\n",
    "        \"Sports development officer\", \"Psychologist, sport and exercise\",\n",
    "        \"Volunteer coordinator\", \"Arts development officer\", \"Aid worker\",\n",
    "        \"Community education officer\", \"Sport and exercise psychologist\",\n",
    "        \"Immigration officer\", \"Learning mentor\", \"Community pharmacist\",\n",
    "        \"Environmental health practitioner\", \"Emergency planning/management officer\",\n",
    "        \"Social research officer, government\", \"Community development worker\",\n",
    "        \"Civil Service administrator\", \"Nature conservation officer\",\n",
    "        \"Personnel officer\"\n",
    "    ],\n",
    "    \"Administración y Gestión\": [\n",
    "        \"Chief Executive Officer\", \"Comptroller\", \"Chief Strategy Officer\",\n",
    "        \"Trading standards officer\", \"Chief Operating Officer\",\n",
    "        \"Administrator, local government\", \"Chief Technology Officer\",\n",
    "        \"Health and safety adviser\", \"Administrator, education\",\n",
    "        \"Human resources officer\", \"Chief Financial Officer\",\n",
    "        \"Fitness centre manager\", \"Health service manager\", \"Waste management officer\",\n",
    "        \"Chief Marketing Officer\", \"Public house manager\", \"Farm manager\",\n",
    "        \"Theme park manager\", \"Event organiser\", \"Theatre manager\",\n",
    "        \"Training and development officer\", \"Logistics and distribution manager\",\n",
    "        \"Management consultant\", \"Armed forces logistics/support/administrative officer\",\n",
    "        \"Records manager\", \"Location manager\", \"Company secretary\",\n",
    "        \"Education administrator\", \"Retail manager\", \"Outdoor activities/education manager\",\n",
    "        \"Civil Service fast streamer\", \"Product manager\", \"Quarry manager\",\n",
    "        \"Estate manager/land agent\", \"Retail merchandiser\", \"Call centre manager\",\n",
    "        \"Travel agency manager\", \"Leisure centre manager\",\n",
    "        \"Tourist information centre manager\", \"Production manager\",\n",
    "        \"Facilities manager\", \"Pension scheme manager\", \"Restaurant manager, fast food\",\n",
    "        \"Catering manager\", \"Local government officer\", \"Hotel manager\",\n",
    "        \"Purchasing manager\", \"Tour manager\", \"Warehouse manager\", \"Forest/woodland manager\"\n",
    "    ],\n",
    "    \"Ciencias Ambientales y Naturales\": [\n",
    "        \"Environmental consultant\", \"Geoscientist\", \"Scientist, marine\",\n",
    "        \"Toxicologist\", \"Surveyor, minerals\", \"Archaeologist\", \"Fisheries officer\",\n",
    "        \"Amenity horticulturist\", \"Tree surgeon\", \"Arboriculturist\",\n",
    "        \"Commercial horticulturist\", \"Soil scientist\", \"Geochemist\",\n",
    "        \"Surveyor, rural practice\", \"Animal nutritionist\", \"Herpetologist\",\n",
    "        \"Plant breeder/geneticist\", \"Oceanographer\", \"Field seismologist\",\n",
    "        \"Environmental health practitioner\", \"Hydrologist\",\n",
    "        \"Environmental education officer\", \"Ecologist\", \"Water quality scientist\"\n",
    "    ],\n",
    "    \"Legal y Regulador\": [\n",
    "        \"Barrister\", \"Trade mark attorney\", \"Chartered loss adjuster\",\n",
    "        \"Trading standards officer\", \"Senior tax professional/tax inspector\",\n",
    "        \"Licensed conveyancer\", \"Barrister's clerk\", \"Patent attorney\",\n",
    "        \"Regulatory affairs officer\", \"Loss adjuster, chartered\",\n",
    "        \"Chartered legal executive (England and Wales)\", \"Solicitor, Scotland\",\n",
    "        \"Solicitor\", \"Legal secretary\"\n",
    "    ],\n",
    "    \"Comercio y Ventas\": [\n",
    "        \"Medical sales representative\", \"Sales professional, IT\",\n",
    "        \"Medical sales representative\", \"Medical sales representative\",\n",
    "        \"Sales executive\", \"Retail buyer\", \"Industrial buyer\",\n",
    "        \"Media buyer\", \"Bookseller\", \"Retail buyer\", \"Commercial horticulturist\",\n",
    "        \"Retail merchandiser\", \"Buyer, industrial\", \"Sales promotion account executive\"\n",
    "    ],\n",
    "    \"Hostelería y Turismo\": [\n",
    "        \"Public house manager\", \"Theme park manager\", \"Barista\",\n",
    "        \"Tourist information centre manager\", \"Travel agency manager\",\n",
    "        \"Hotel manager\", \"Restaurant manager, fast food\", \"Catering manager\",\n",
    "        \"Tour manager\"\n",
    "    ],\n",
    "    \"Transporte\": [\n",
    "        \"Airline pilot\", \"Freight forwarder\", \"Air traffic controller\",\n",
    "        \"Transport planner\", \"Pilot, airline\", \"Air cabin crew\",\n",
    "        \"Cabin crew\"\n",
    "    ],\n",
    "    \"Otros\": [\n",
    "        \"Sub\", \"Make\", \"Make\", \"Land\", \"Artist\"\n",
    "    ]\n",
    "}\n",
    "\n",
    "job_to_sector_map = {}\n",
    "for sector, jobs_list in jobs_by_sector.items():\n",
    "    for job in jobs_list:\n",
    "        job_to_sector_map[job] = sector\n",
    "\n",
    "df[\"sector\"] = df[\"job\"].map(job_to_sector_map)\n",
    "missing_sector_jobs = df[df[\"sector\"].isna()]\n"
   ]
  },
  {
   "cell_type": "code",
   "execution_count": null,
   "id": "197b8423",
   "metadata": {},
   "outputs": [],
   "source": [
    "df[\"sector\"].value_counts()"
   ]
  },
  {
   "cell_type": "code",
   "execution_count": null,
   "id": "14f4a870",
   "metadata": {},
   "outputs": [],
   "source": [
    "df.info()"
   ]
  },
  {
   "cell_type": "code",
   "execution_count": null,
   "id": "1db6cc36",
   "metadata": {},
   "outputs": [],
   "source": [
    "df = df.drop(\"job\", axis=1)\n",
    "df"
   ]
  },
  {
   "cell_type": "code",
   "execution_count": null,
   "id": "37866a64",
   "metadata": {},
   "outputs": [],
   "source": [
    "frecuencias = df[\"state\"].value_counts(normalize=True) \n",
    "valores_raros = frecuencias[frecuencias < 0.01].index\n",
    "df['state'] = df['state'].replace(valores_raros, 'others')"
   ]
  },
  {
   "cell_type": "code",
   "execution_count": null,
   "id": "a908357e",
   "metadata": {},
   "outputs": [],
   "source": [
    "df[\"state\"].nunique()"
   ]
  },
  {
   "cell_type": "code",
   "execution_count": null,
   "id": "84139f61",
   "metadata": {},
   "outputs": [],
   "source": [
    "df.info()"
   ]
  },
  {
   "cell_type": "code",
   "execution_count": null,
   "id": "990adfb8",
   "metadata": {},
   "outputs": [],
   "source": [
    "\n",
    "df[\"sector\"] = df[\"sector\"].fillna('other')"
   ]
  },
  {
   "cell_type": "code",
   "execution_count": null,
   "id": "2bd478e8",
   "metadata": {},
   "outputs": [],
   "source": [
    "df"
   ]
  },
  {
   "cell_type": "code",
   "execution_count": null,
   "id": "73fadd65",
   "metadata": {},
   "outputs": [],
   "source": [
    "df.to_csv('../data/processed/fraud_processed.csv', index=False)"
   ]
  },
  {
   "cell_type": "markdown",
   "id": "3561800e",
   "metadata": {},
   "source": [
    "Repetir lo mismo con el test"
   ]
  },
  {
   "cell_type": "code",
   "execution_count": null,
   "id": "1eb0513c",
   "metadata": {},
   "outputs": [],
   "source": [
    "df_test = pd.read_csv(\"../data/raw/fraudTest.csv\") "
   ]
  },
  {
   "cell_type": "code",
   "execution_count": null,
   "id": "cac021d6",
   "metadata": {},
   "outputs": [],
   "source": [
    "df_test = df_test.drop([\"Unnamed: 0\", \"first\", \"last\",\"cc_num\",\"trans_num\",\"street\",\"merchant\",\"city\",\"zip\"], axis=1)\n",
    "date_list = []\n",
    "time_list = []\n",
    "for row in df_test[\"trans_date_trans_time\"]:\n",
    "    date_list.append(row[0:10])\n",
    "    time_list.append(row[11:19])\n",
    "    \n",
    "df_test[\"date\"] = date_list\n",
    "df_test[\"time\"] = time_list\n",
    "df_test[\"gender\"] = df_test[\"gender\"].map({\"M\":0,\"F\":1}) # Le damos valor 1 a F porque es mas comun que M\n",
    "df_test = df_test.drop([\"trans_date_trans_time\", \"unix_time\"], axis=1)\n",
    "\n",
    "df_test[\"weekday_name\"] = pd.to_datetime(df_test[\"date\"]).dt.day_name()\n",
    "\n",
    "# Suponiendo que df es tu DataFrame y 'time' está en formato string tipo 'HH:MM:SS'\n",
    "df_test[\"hour\"] = pd.to_datetime(df_test[\"time\"]).dt.hour  # Extraer la hora como entero (0-23)\n",
    "\n",
    "# Calcular las variables seno y coseno para la hora\n",
    "df_test[\"hour_sin\"] = np.sin(2 * np.pi * df_test[\"hour\"] / 24)\n",
    "df_test[\"hour_cos\"] = np.cos(2 * np.pi * df_test[\"hour\"] / 24)\n",
    "\n",
    "df_test[\"dob\"] = pd.to_datetime(df_test[\"dob\"])       # Asegurarse de que dob sea tipo fecha\n",
    "df_test[\"date\"] = pd.to_datetime(df_test[\"date\"])     # Suponiendo que tienes una columna con la fecha de la transacción\n",
    "\n",
    "df_test[\"age\"] = (df_test[\"date\"] - df_test[\"dob\"]).dt.days // 365\n",
    "\n",
    "df_test = df_test.drop([\"date\",\"time\",\"hour\",\"lat\",\"long\",\"dob\",\"date\",\"time\",\"merch_lat\",\"merch_long\"], axis=1)\n",
    "\n",
    "df_test[\"sector\"] = df_test[\"job\"].map(job_to_sector_map)\n",
    "missing_sector_jobs = df_test[df_test[\"sector\"].isna()]\n",
    "\n",
    "df_test = df_test.drop(\"job\", axis=1)\n",
    "\n",
    "frecuencias = df_test[\"state\"].value_counts(normalize=True) \n",
    "valores_raros = frecuencias[frecuencias < 0.01].index\n",
    "df_test['state'] = df_test['state'].replace(valores_raros, 'others')\n",
    "\n",
    "df_test[\"sector\"] = df_test[\"sector\"].fillna('other')"
   ]
  },
  {
   "cell_type": "code",
   "execution_count": null,
   "id": "942b353d",
   "metadata": {},
   "outputs": [],
   "source": [
    "df_test.to_csv('../data/processed/fraud_test_processed.csv', index=False)"
   ]
  },
  {
   "cell_type": "code",
   "execution_count": null,
   "id": "7be34fa0",
   "metadata": {},
   "outputs": [],
   "source": [
    "pd.set_option(\"display.max_rows\", None)\n",
    "pd.set_option(\"display.max_columns\", None)\n",
    "pd.set_option(\"display.width\", None)\n",
    "pd.set_option(\"display.max_colwidth\", None)"
   ]
  },
  {
   "cell_type": "code",
   "execution_count": null,
   "id": "2c330e28",
   "metadata": {},
   "outputs": [],
   "source": [
    "df_test"
   ]
  },
  {
   "cell_type": "code",
   "execution_count": null,
   "id": "cf63f35a",
   "metadata": {},
   "outputs": [],
   "source": []
  }
 ],
 "metadata": {
  "kernelspec": {
   "display_name": "data_analysis_env",
   "language": "python",
   "name": "python3"
  },
  "language_info": {
   "codemirror_mode": {
    "name": "ipython",
    "version": 3
   },
   "file_extension": ".py",
   "mimetype": "text/x-python",
   "name": "python",
   "nbconvert_exporter": "python",
   "pygments_lexer": "ipython3",
   "version": "3.11.11"
  }
 },
 "nbformat": 4,
 "nbformat_minor": 5
}
